{
 "cells": [
  {
   "cell_type": "raw",
   "metadata": {},
   "source": [
    "# capstone project\n",
    "- introduction\n",
    "   *  project Jupyter exists to develop open-source software, open-standards, and services for interactive computing            across dozens of programming languages. We provide Jupyter notebook online for communities, individuals,                    students,researchers and organisations to come together and share their researches and/or their open-source work\n",
    "- Jupyter Notebook\n",
    "    *  The Jupyter Notebook is an open-source web application that allows you to create and share documents that contain           live code, equations, visualizations and narrative text. Uses include: data cleaning and transformation, numerical          simulation, statistical modeling, data visualization, machine learning, and much more.\n",
    "             The Jupyter Notebook is based on a set of open standards for interactive computing. Think HTML and CSS for                      interactive computing on the web. These open standards can be leveraged by third party developers to build                      customized applications with embedded interactive computing\n",
    "- JupyterHub\n",
    "     *  A multi-user version of the Jupyter notebook designed for companies, classrooms and research labs. The Hub can           offer notebook servers to a class of students, a corporate data science workgroup, a scientific research                    project, or a high performance computing group.\n"
   ]
  },
  {
   "cell_type": "code",
   "execution_count": 1,
   "metadata": {},
   "outputs": [
    {
     "name": "stdout",
     "output_type": "stream",
     "text": [
      "Hello capstone project course!\n"
     ]
    }
   ],
   "source": [
    "import pandas as pd\n",
    "import numpy as np\n",
    "print(\"Hello capstone project course!\")"
   ]
  }
 ],
 "metadata": {
  "kernelspec": {
   "display_name": "Python 3",
   "language": "python",
   "name": "python3"
  },
  "language_info": {
   "codemirror_mode": {
    "name": "ipython",
    "version": 3
   },
   "file_extension": ".py",
   "mimetype": "text/x-python",
   "name": "python",
   "nbconvert_exporter": "python",
   "pygments_lexer": "ipython3",
   "version": "3.8.3"
  }
 },
 "nbformat": 4,
 "nbformat_minor": 4
}
